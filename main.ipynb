{
 "cells": [
  {
   "cell_type": "code",
   "execution_count": 1,
   "source": [
    "import pandas as pd\r\n",
    "from bs4 import BeautifulSoup\r\n",
    "import requests"
   ],
   "outputs": [],
   "metadata": {}
  },
  {
   "cell_type": "code",
   "execution_count": 2,
   "source": [
    "page = requests.get('https://www.worlddata.info/average-income.php')"
   ],
   "outputs": [],
   "metadata": {}
  },
  {
   "cell_type": "code",
   "execution_count": 3,
   "source": [
    "soup = BeautifulSoup(page.content,'html.parser')"
   ],
   "outputs": [],
   "metadata": {}
  },
  {
   "cell_type": "code",
   "execution_count": 4,
   "source": [
    "page.close()"
   ],
   "outputs": [],
   "metadata": {}
  },
  {
   "cell_type": "code",
   "execution_count": null,
   "source": [
    "print(soup.prettify())"
   ],
   "outputs": [],
   "metadata": {}
  },
  {
   "cell_type": "code",
   "execution_count": null,
   "source": [
    "print(len(soup.table))\r\n",
    "print(soup.table.prettify())\r\n",
    "\r\n",
    "table = soup.table"
   ],
   "outputs": [],
   "metadata": {}
  },
  {
   "cell_type": "code",
   "execution_count": 7,
   "source": [
    "print(len(table.findAll('a')))\r\n",
    "\r\n",
    "a_tag = table.findAll('a')\r\n",
    "\r\n",
    "a_tags = []\r\n",
    "\r\n",
    "for x in range(0,69):\r\n",
    "    a_tag[x] = a_tag[x].text\r\n",
    "    a_tags.append(a_tag[x])\r\n",
    "\r\n",
    "print(a_tags)    "
   ],
   "outputs": [
    {
     "output_type": "stream",
     "name": "stdout",
     "text": [
      "69\n",
      "['Bermuda', 'Norway', 'Macao', 'Iceland', 'United States', 'Ireland', 'Denmark', 'Singapore', 'Austria', 'Finland', 'Belgium', 'United Kingdom', 'Kuwait', 'Italy', 'Bahamas', 'Cyprus', 'Slovenia', 'Portugal', 'Greece', 'Saint Kitts and Nevis', 'Palau', 'Poland', 'Antigua and Barbuda', 'Croatia', 'Costa Rica', 'Russia', 'Malaysia', 'Mauritius', 'Bulgaria', 'Turkey', 'Argentina', 'Kazakhstan', 'Mexico', 'Serbia', 'Saint Vincent and the Grenadines', 'Turkmenistan', 'Belarus', 'Lebanon', 'Guatemala', 'Jordan', 'Samoa', 'Micronesia', 'Sri Lanka', 'West Bank', 'Eswatini', 'Ukraine', 'Djibouti', 'Bhutan', 'Vanuatu', 'Ghana', 'Sao Tome and Principe', 'India', 'Congo', 'Syria', 'Mauritania', 'Cameroon', 'Cambodia', 'Comoros', 'Pakistan', 'Burma', 'Zambia', 'Tajikistan', 'Guinea', 'Mali', 'Guinea-Bissau', 'Chad', 'Eritrea', 'Sierra Leone', 'Madagascar']\n"
     ]
    }
   ],
   "metadata": {}
  },
  {
   "cell_type": "code",
   "execution_count": 8,
   "source": [
    "td_tag = table.findAll('td')\r\n",
    "print(len(td_tag)) \r\n",
    "\r\n",
    "income_per_year = []\r\n",
    "\r\n",
    "for x in range(2,276,4):\r\n",
    "    td_tag[x] = td_tag[x].text\r\n",
    "    parts = td_tag[x].split(' ')\r\n",
    "    income_per_year.append(parts[0])\r\n",
    "\r\n",
    "print(income_per_year)\r\n",
    "   "
   ],
   "outputs": [
    {
     "output_type": "stream",
     "name": "stdout",
     "text": [
      "276\n",
      "['117,740', '78,250', '75,610', '72,930', '65,910', '63,470', '62,720', '54,920', '51,390', '49,620', '47,960', '42,130', '36,290', '32,200', '27,780', '26,110', '25,910', '22,000', '19,690', '17,400', '16,500', '15,270', '14,250', '14,190', '11,460', '10,690', '10,580', '10,230', '9,540', '9,050', '8,930', '8,680', '8,480', '7,400', '7,340', '7,220', '6,330', '5,510', '4,490', '4,310', '4,070', '4,010', '3,720', '3,710', '3,580', '3,540', '3,320', '2,860', '2,780', '2,230', '2,070', '1,900', '1,830', '1,820', '1,640', '1,500', '1,490', '1,450', '1,280', '1,260', '1,190', '1,060', '1,020', '830', '760', '660', '600', '490', '480']\n"
     ]
    }
   ],
   "metadata": {}
  },
  {
   "cell_type": "code",
   "execution_count": 9,
   "source": [
    "income_per_month = []\r\n",
    "\r\n",
    "for x in range(3,276,4):\r\n",
    "    td_tag[x] = td_tag[x].text\r\n",
    "    parts = td_tag[x].split(' ')\r\n",
    "    income_per_month.append(parts[0])\r\n",
    "    \r\n",
    "\r\n",
    "print(income_per_month) "
   ],
   "outputs": [
    {
     "output_type": "stream",
     "name": "stdout",
     "text": [
      "['9,812', '6,521', '6,301', '6,078', '5,493', '5,289', '5,227', '4,577', '4,283', '4,135', '3,997', '3,511', '3,024', '2,683', '2,315', '2,176', '2,159', '1,833', '1,641', '1,450', '1,375', '1,273', '1,188', '1,183', '955', '891', '882', '853', '795', '754', '744', '723', '707', '617', '612', '602', '528', '459', '374', '359', '339', '334', '310', '309', '298', '295', '277', '238', '232', '186', '173', '158', '153', '152', '137', '125', '124', '121', '107', '105', '99', '88', '85', '69', '63', '55', '50', '41', '40']\n"
     ]
    }
   ],
   "metadata": {}
  },
  {
   "cell_type": "code",
   "execution_count": 11,
   "source": [
    "data = pd.DataFrame({'Country':a_tags,'Avg.income per year ($)':income_per_year,'Avg.income per month ($)':income_per_month})\r\n",
    "\r\n",
    "data"
   ],
   "outputs": [
    {
     "output_type": "execute_result",
     "data": {
      "text/html": [
       "<div>\n",
       "<style scoped>\n",
       "    .dataframe tbody tr th:only-of-type {\n",
       "        vertical-align: middle;\n",
       "    }\n",
       "\n",
       "    .dataframe tbody tr th {\n",
       "        vertical-align: top;\n",
       "    }\n",
       "\n",
       "    .dataframe thead th {\n",
       "        text-align: right;\n",
       "    }\n",
       "</style>\n",
       "<table border=\"1\" class=\"dataframe\">\n",
       "  <thead>\n",
       "    <tr style=\"text-align: right;\">\n",
       "      <th></th>\n",
       "      <th>Country</th>\n",
       "      <th>Avg.income per year ($)</th>\n",
       "      <th>Avg.income per month ($)</th>\n",
       "    </tr>\n",
       "  </thead>\n",
       "  <tbody>\n",
       "    <tr>\n",
       "      <th>0</th>\n",
       "      <td>Bermuda</td>\n",
       "      <td>117,740</td>\n",
       "      <td>9,812</td>\n",
       "    </tr>\n",
       "    <tr>\n",
       "      <th>1</th>\n",
       "      <td>Norway</td>\n",
       "      <td>78,250</td>\n",
       "      <td>6,521</td>\n",
       "    </tr>\n",
       "    <tr>\n",
       "      <th>2</th>\n",
       "      <td>Macao</td>\n",
       "      <td>75,610</td>\n",
       "      <td>6,301</td>\n",
       "    </tr>\n",
       "    <tr>\n",
       "      <th>3</th>\n",
       "      <td>Iceland</td>\n",
       "      <td>72,930</td>\n",
       "      <td>6,078</td>\n",
       "    </tr>\n",
       "    <tr>\n",
       "      <th>4</th>\n",
       "      <td>United States</td>\n",
       "      <td>65,910</td>\n",
       "      <td>5,493</td>\n",
       "    </tr>\n",
       "    <tr>\n",
       "      <th>...</th>\n",
       "      <td>...</td>\n",
       "      <td>...</td>\n",
       "      <td>...</td>\n",
       "    </tr>\n",
       "    <tr>\n",
       "      <th>64</th>\n",
       "      <td>Guinea-Bissau</td>\n",
       "      <td>760</td>\n",
       "      <td>63</td>\n",
       "    </tr>\n",
       "    <tr>\n",
       "      <th>65</th>\n",
       "      <td>Chad</td>\n",
       "      <td>660</td>\n",
       "      <td>55</td>\n",
       "    </tr>\n",
       "    <tr>\n",
       "      <th>66</th>\n",
       "      <td>Eritrea</td>\n",
       "      <td>600</td>\n",
       "      <td>50</td>\n",
       "    </tr>\n",
       "    <tr>\n",
       "      <th>67</th>\n",
       "      <td>Sierra Leone</td>\n",
       "      <td>490</td>\n",
       "      <td>41</td>\n",
       "    </tr>\n",
       "    <tr>\n",
       "      <th>68</th>\n",
       "      <td>Madagascar</td>\n",
       "      <td>480</td>\n",
       "      <td>40</td>\n",
       "    </tr>\n",
       "  </tbody>\n",
       "</table>\n",
       "<p>69 rows × 3 columns</p>\n",
       "</div>"
      ],
      "text/plain": [
       "          Country Avg.income per year ($) Avg.income per month ($)\n",
       "0         Bermuda                 117,740                    9,812\n",
       "1          Norway                  78,250                    6,521\n",
       "2           Macao                  75,610                    6,301\n",
       "3         Iceland                  72,930                    6,078\n",
       "4   United States                  65,910                    5,493\n",
       "..            ...                     ...                      ...\n",
       "64  Guinea-Bissau                     760                       63\n",
       "65           Chad                     660                       55\n",
       "66        Eritrea                     600                       50\n",
       "67   Sierra Leone                     490                       41\n",
       "68     Madagascar                     480                       40\n",
       "\n",
       "[69 rows x 3 columns]"
      ]
     },
     "metadata": {},
     "execution_count": 11
    }
   ],
   "metadata": {}
  },
  {
   "cell_type": "code",
   "execution_count": 12,
   "source": [
    "data.to_csv('countries avg income.csv')"
   ],
   "outputs": [],
   "metadata": {}
  }
 ],
 "metadata": {
  "orig_nbformat": 4,
  "language_info": {
   "name": "python",
   "version": "3.8.8",
   "mimetype": "text/x-python",
   "codemirror_mode": {
    "name": "ipython",
    "version": 3
   },
   "pygments_lexer": "ipython3",
   "nbconvert_exporter": "python",
   "file_extension": ".py"
  },
  "kernelspec": {
   "name": "python3",
   "display_name": "Python 3.8.8 64-bit ('base': conda)"
  },
  "interpreter": {
   "hash": "63f1087d36cbe8f2eaa5a6e9bf8f00ad953864e3c527e5ac025ca4eb18c7d7e1"
  }
 },
 "nbformat": 4,
 "nbformat_minor": 2
}